{
 "cells": [
  {
   "cell_type": "code",
   "execution_count": null,
   "metadata": {},
   "outputs": [],
   "source": [
    "import numpy as np\n",
    "import pandas as pd\n",
    "import seaborn as sns\n",
    "from matplotlib import pyplot as plt\n",
    "deliveries = pd.read_csv('Ipl Data/deliveries.csv')"
   ]
  },
  {
   "cell_type": "code",
   "execution_count": null,
   "metadata": {},
   "outputs": [],
   "source": [
    "deliveries=deliveries.replace(to_replace =\"Rising Pune Supergiant\", value =\"Rising Pune Supergiants\") \n",
    "deliveries=deliveries.replace(to_replace =\"Delhi Daredevils\", value =\"Delhi Capitals\") \n",
    "deliveries=deliveries.replace(to_replace =\"Deccan Chargers\", value =\"Sunrisers Hyderabad\")"
   ]
  },
  {
   "cell_type": "code",
   "execution_count": null,
   "metadata": {},
   "outputs": [],
   "source": [
    "#Most Wickets by a Team in First Over\n",
    "first_over = deliveries[deliveries['over']==1]\n",
    "bowling_team = first_over.groupby('bowling_team').apply(lambda x: x['dismissal_kind'].dropna().reset_index())\n",
    "final = first_over.groupby('bowling_team').count().reset_index()\n",
    "sns.barplot(final['dismissal_kind'],final['bowling_team'])\n",
    "plt.tight_layout()\n",
    "plt.savefig(\"graphs/first_over_mostWickets.jpg\")"
   ]
  },
  {
   "cell_type": "code",
   "execution_count": null,
   "metadata": {},
   "outputs": [],
   "source": []
  }
 ],
 "metadata": {
  "kernelspec": {
   "display_name": "Python 3",
   "language": "python",
   "name": "python3"
  },
  "language_info": {
   "codemirror_mode": {
    "name": "ipython",
    "version": 3
   },
   "file_extension": ".py",
   "mimetype": "text/x-python",
   "name": "python",
   "nbconvert_exporter": "python",
   "pygments_lexer": "ipython3",
   "version": "3.8.5-final"
  }
 },
 "nbformat": 4,
 "nbformat_minor": 4
}