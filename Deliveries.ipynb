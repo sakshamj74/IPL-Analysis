{
 "cells": [
  {
   "cell_type": "code",
   "execution_count": null,
   "metadata": {},
   "outputs": [],
   "source": [
    "import numpy as np\n",
    "import pandas as pd\n",
    "pd.set_option('display.max_columns', None)\n",
    "import matplotlib.pyplot as plt\n",
    "import seaborn as sns\n",
    "%matplotlib inline"
   ]
  },
  {
   "cell_type": "code",
   "execution_count": null,
   "metadata": {},
   "outputs": [],
   "source": [
    "deliveries = pd.read_csv('Ipl Data/deliveries.csv')"
   ]
  },
  {
   "cell_type": "code",
   "execution_count": null,
   "metadata": {},
   "outputs": [],
   "source": [
    "deliveries.head(10)"
   ]
  },
  {
   "cell_type": "code",
   "execution_count": null,
   "metadata": {},
   "outputs": [],
   "source": [
    "#find out top bowlers - counting most number of wickets\n",
    "bowlers = deliveries[deliveries['dismissal_kind'] != 'run out']\n",
    "bowlers = deliveries.groupby('bowler').apply(lambda x: x['dismissal_kind'].dropna().reset_index(name='wickets'))\n",
    "bowlers"
   ]
  },
  {
   "cell_type": "code",
   "execution_count": null,
   "metadata": {},
   "outputs": [],
   "source": [
    "bowlers_df = bowlers.groupby('bowler').count().reset_index()\n",
    "top_bowlers = bowlers_df.sort_values(by='wickets', ascending=False)[:10]"
   ]
  },
  {
   "cell_type": "code",
   "execution_count": null,
   "metadata": {},
   "outputs": [],
   "source": [
    "top_bowlers"
   ]
  },
  {
   "cell_type": "code",
   "execution_count": null,
   "metadata": {},
   "outputs": [],
   "source": [
    "bowlers_df"
   ]
  },
  {
   "cell_type": "code",
   "execution_count": null,
   "metadata": {},
   "outputs": [],
   "source": [
    "print(\"Top 10 wicket takers in the History of IPL\")\n",
    "sns.barplot(top_bowlers['wickets'],top_bowlers['bowler'])\n",
    "plt.savefig(\"graphs/top_10_wicket_takers.jpg\")"
   ]
  },
  {
   "cell_type": "code",
   "execution_count": null,
   "metadata": {},
   "outputs": [],
   "source": [
    "matches_dataset=pd.read_csv(\"Ipl Data/matches.csv\")"
   ]
  },
  {
   "cell_type": "code",
   "execution_count": null,
   "metadata": {},
   "outputs": [],
   "source": [
    "matches_dataset['team1'].unique()"
   ]
  },
  {
   "cell_type": "code",
   "execution_count": null,
   "metadata": {},
   "outputs": [],
   "source": [
    "# Highest team score in each season\n",
    "\n",
    "deliveries=deliveries.replace(to_replace =\"Rising Pune Supergiant\", value =\"Rising Pune Supergiants\") \n",
    "deliveries=deliveries.replace(to_replace =\"Delhi Daredevils\", value =\"Delhi Capitals\") \n",
    "deliveries=deliveries.replace(to_replace =\"Deccan Chargers\", value =\"Sunrisers Hyderabad\")\n",
    "\n",
    "matches = []\n",
    "total_innings = []\n",
    "batting_team = []\n",
    "runs = []\n",
    "\n",
    "for match_no in deliveries['match_id'].unique():\n",
    "    for innings in deliveries[ deliveries['match_id']==match_no ]['inning'].unique():\n",
    "        df = deliveries[\n",
    "                        (deliveries['match_id']==match_no) &\n",
    "                        (deliveries['inning']==innings)\n",
    "        ]\n",
    "        total_runs = df['total_runs'].sum()\n",
    "        runs.append(total_runs)\n",
    "        matches.append(match_no)\n",
    "        total_innings.append(innings)\n",
    "        batting_team.append(df['batting_team'].unique()[0])"
   ]
  },
  {
   "cell_type": "code",
   "execution_count": null,
   "metadata": {},
   "outputs": [],
   "source": [
    "#Final Dataset after preprocessing\n",
    "df1 = pd.DataFrame()\n",
    "df1['match_id'] = matches\n",
    "df1['total_runs'] = runs\n",
    "df1['season'] = [matches_dataset[ matches_dataset['id']==i ]['season'].unique()[0] for i in matches] \n",
    "df1['batting_team'] = batting_team\n",
    "\n",
    "\n",
    "df1"
   ]
  },
  {
   "cell_type": "code",
   "execution_count": null,
   "metadata": {},
   "outputs": [],
   "source": [
    "#Maximum score in each season\n",
    "\n",
    "season = []\n",
    "teamId = []\n",
    "max_runs = []\n",
    "for year in df1['season'].unique():\n",
    "    maximum_run = df1[ df1['season']==year ]['total_runs'].max()\n",
    "    team = df1[ (df1['season']==year) & (df1['total_runs']==maximum_run) ]['batting_team'].unique()[0]\n",
    "    season.append(year)\n",
    "    teamId.append(team)\n",
    "    max_runs.append(maximum_run)\n",
    "\n",
    "max_runs"
   ]
  },
  {
   "cell_type": "code",
   "execution_count": null,
   "metadata": {},
   "outputs": [],
   "source": [
    "plt.style.use('ggplot')\n",
    "fig=plt.gcf()\n",
    "fig.set_size_inches(13,7.5)\n",
    "plt.xticks(fontsize=15)\n",
    "plt.yticks(fontsize=15)\n",
    "plt.title(\"Highest team score in each season\",fontsize=20)\n",
    "ax=sns.barplot(x = season, y = max_runs, hue = teamId, dodge=False)\n",
    "ax.legend(loc = 'center left', bbox_to_anchor=(1,0.7))\n",
    "plt.savefig(\"graphs/highest_team_scores.jpg\")"
   ]
  },
  {
   "cell_type": "code",
   "execution_count": null,
   "metadata": {},
   "outputs": [],
   "source": [
    "deliveries=deliveries.replace(to_replace='RG Sharma', value='R Sharma')\n",
    "def Batsmen(bat_name, fig, axes, pos):\n",
    "    data = []\n",
    "    for match in deliveries['match_id'].unique():\n",
    "        df_tmp = deliveries[\n",
    "                (deliveries['batsman']==bat_name) &\n",
    "                (deliveries['match_id']==match) &\n",
    "                (deliveries['is_super_over']==0) &\n",
    "                (deliveries['wide_runs']==0)\n",
    "        ]\n",
    "        if df_tmp.shape[0]==0: continue\n",
    "\n",
    "        out = 0\n",
    "        if bat_name in df_tmp['player_dismissed'].unique(): out=1\n",
    "        how_out = None\n",
    "        if out: how_out = df_tmp[ df_tmp['player_dismissed']==bat_name ]['dismissal_kind'].unique()[0]\n",
    "\n",
    "        row = []\n",
    "        row.append(match)\n",
    "        row.append(df_tmp['batsman_runs'].sum())\n",
    "        row.append(df_tmp.shape[0])\n",
    "        #print(row)\n",
    "        dic = dict(df_tmp['batsman_runs'].value_counts())\n",
    "        runs = 0\n",
    "        for i in range(7):\n",
    "            if i in dic.keys(): \n",
    "                row.append(dic[i])\n",
    "                runs += i*dic[i]\n",
    "            else: row.append(0)\n",
    "        row.append(out)\n",
    "        row.append(how_out)\n",
    "\n",
    "        data.append(row)\n",
    "        #assert(row[2]==sum(row[3:10]))\n",
    "        #assert(row[1]==runs)\n",
    "\n",
    "    #print(data)\n",
    "    df_bat = pd.DataFrame(data, columns=['match_id', 'total_runs', 'total_balls', '0', '1', '2', '3', '4', '5', '6', 'out', 'how_out'])\n",
    "    df_bat.head(10)\n",
    "    print(\"Number of Innings Played by \"+bat_name+\" = \"+str(df_bat.shape[0]))\n",
    "    if df_bat['out'].sum()!=0: print(bat_name+'\\'s Average = '+str(df_bat['total_runs'].sum()/df_bat['out'].sum()))\n",
    "    \n",
    "    sns.set()\n",
    "    sns.set_palette(sns.color_palette('tab10'))\n",
    "    df_bat[ df_bat['out']==1 ]['total_runs'].plot(kind='hist', ax = axes[0, pos])\n",
    "    axes[0,pos].set_title(bat_name+'\\'s Runs in all the matches', fontsize=20)\n",
    "    #plt.show()\n",
    "    \n",
    "    st = df_bat['total_runs']/df_bat['total_balls']*100\n",
    "    print(bat_name+'\\'s Strike rate = '+str(np.average(st)))\n",
    "    st.plot(kind='hist', ax = axes[1, pos])\n",
    "    axes[1,pos].set_title(bat_name+'\\'s Strike Rate in all the matches', fontsize=20)\n",
    "    #plt.show()\n",
    "    \n",
    "    runs = []\n",
    "    for i in [1,2,4,6]:\n",
    "        runs.append(i*df_bat[str(i)].sum())\n",
    "    axes[2,pos].pie(runs, labels = ['1\\'s','2\\'s','4\\'s','6\\'s'], autopct = \"%1.0f%%\")\n",
    "    axes[2,pos].set_title(bat_name+'\\'s Percentage of Runs', fontsize=20)\n",
    "    #plt.show()\n",
    "    \n",
    "    axes[3,pos].pie(df_bat['how_out'].value_counts().values, labels = df_bat['how_out'].value_counts().index, autopct = '%1.0f%%')\n",
    "    axes[3,pos].set_title('How '+bat_name+' got out', fontsize=20)\n",
    "    #plt.show()\n",
    "    \n",
    "name = ['DA Warner', 'V Kohli', 'R Sharma', 'AD Russell', 'HH Pandya', 'RR Pant']\n",
    "pos = 0\n",
    "fig, axes = plt.subplots(4,len(name), figsize = (60,40))\n",
    "for i in name:\n",
    "    print('Batsman\\'s name = '+i)\n",
    "    Batsmen(i, fig, axes, pos)\n",
    "    pos +=1\n",
    "    print()\n",
    "plt.show()\n",
    "#fig.savefig('Batsmen.png')\n",
    "plt.savefig(\"graphs/best_batsmen_analysis.jpg\")"
   ]
  },
  {
   "cell_type": "code",
   "execution_count": null,
   "metadata": {},
   "outputs": [],
   "source": [
    "matches = []\n",
    "total_innings = []\n",
    "batsman_name = []\n",
    "runs = []\n",
    "\n",
    "for match_no in deliveries['match_id'].unique():\n",
    "    for innings in deliveries[ deliveries['match_id']==match_no ]['inning'].unique():\n",
    "        df = deliveries[\n",
    "                        (deliveries['match_id']==match_no) &\n",
    "                        (deliveries['inning']==innings)\n",
    "        ]\n",
    "        batsman_runs = df['batsman_runs'].sum()\n",
    "        runs.append(batsman_runs)\n",
    "        matches.append(match_no)\n",
    "        total_innings.append(innings)\n",
    "        batsman_name.append(df['batsman'].unique()[0])"
   ]
  },
  {
   "cell_type": "code",
   "execution_count": null,
   "metadata": {},
   "outputs": [],
   "source": [
    "df1 = pd.DataFrame()\n",
    "df1['match_id'] = matches\n",
    "df1['batsman_runs'] = runs\n",
    "df1['season'] = [matches_dataset[ matches_dataset['id']==i ]['season'].unique()[0] for i in matches] \n",
    "df1['batsman'] = batsman_name\n",
    "\n",
    "\n",
    "df1"
   ]
  },
  {
   "cell_type": "code",
   "execution_count": null,
   "metadata": {},
   "outputs": [],
   "source": [
    "season = []\n",
    "teamId = []\n",
    "max_runs = []\n",
    "for year in df1['season'].unique():\n",
    "    maximum_run = df1[ df1['season']==year ]['batsman_runs'].max()\n",
    "    team = df1[ (df1['season']==year) & (df1['batsman_runs']==maximum_run) ]['batsman'].unique()[0]\n",
    "    season.append(year)\n",
    "    teamId.append(team)\n",
    "    max_runs.append(maximum_run)\n",
    "\n"
   ]
  },
  {
   "cell_type": "code",
   "execution_count": null,
   "metadata": {},
   "outputs": [],
   "source": [
    "plt.style.use('ggplot')\n",
    "fig=plt.gcf()\n",
    "fig.set_size_inches(13,7.5)\n",
    "plt.xticks(fontsize=15)\n",
    "plt.yticks(fontsize=15)\n",
    "plt.title(\"Highest batsman score in each season\",fontsize=20)\n",
    "ax=sns.barplot(x = season, y = max_runs, hue = teamId, dodge=False)\n",
    "ax.legend(loc = 'center left', bbox_to_anchor=(1,0.7))\n",
    "plt.savefig(\"graphs/highest_batsman_scores.jpg\")"
   ]
  }
 ],
 "metadata": {
  "kernelspec": {
   "display_name": "Python 3",
   "language": "python",
   "name": "python3"
  },
  "language_info": {
   "codemirror_mode": {
    "name": "ipython",
    "version": 3
   },
   "file_extension": ".py",
   "mimetype": "text/x-python",
   "name": "python",
   "nbconvert_exporter": "python",
   "pygments_lexer": "ipython3",
   "version": "3.8.5-final"
  }
 },
 "nbformat": 4,
 "nbformat_minor": 4
}