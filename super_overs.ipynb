{
 "cells": [
  {
   "cell_type": "code",
   "execution_count": null,
   "metadata": {},
   "outputs": [],
   "source": [
    "import numpy as np\n",
    "import pandas as pd\n",
    "import seaborn as sns\n",
    "from matplotlib import pyplot as plt\n",
    "deliveries = pd.read_csv('Ipl Data/deliveries.csv')"
   ]
  },
  {
   "cell_type": "code",
   "execution_count": null,
   "metadata": {},
   "outputs": [],
   "source": [
    "# Total Runs given By a bowler in SuperOver\n",
    "\n",
    "super_overs = deliveries[deliveries['is_super_over']>0]\n",
    "data = super_overs.groupby('bowler').count().reset_index()\n",
    "arranged = data.sort_values(by='total_runs')\n",
    "sns.barplot(arranged['total_runs'],arranged['bowler'])\n",
    "plt.tight_layout()\n",
    "plt.savefig(\"graphs/super_over_runs_given_by_bowlers.jpg\")"
   ]
  },
  {
   "cell_type": "code",
   "execution_count": null,
   "metadata": {},
   "outputs": [],
   "source": []
  }
 ],
 "metadata": {
  "kernelspec": {
   "display_name": "Python 3",
   "language": "python",
   "name": "python3"
  },
  "language_info": {
   "codemirror_mode": {
    "name": "ipython",
    "version": 3
   },
   "file_extension": ".py",
   "mimetype": "text/x-python",
   "name": "python",
   "nbconvert_exporter": "python",
   "pygments_lexer": "ipython3",
   "version": "3.8.5-final"
  }
 },
 "nbformat": 4,
 "nbformat_minor": 4
}