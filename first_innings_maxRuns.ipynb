{
 "cells": [
  {
   "cell_type": "code",
   "execution_count": null,
   "metadata": {},
   "outputs": [],
   "source": [
    "import numpy as np\n",
    "import pandas as pd\n",
    "import seaborn as sns\n",
    "from matplotlib import pyplot as plt\n",
    "deliveries = pd.read_csv('Ipl Data/deliveries.csv')"
   ]
  },
  {
   "cell_type": "code",
   "execution_count": null,
   "metadata": {},
   "outputs": [],
   "source": [
    "deliveries=deliveries.replace(to_replace =\"Rising Pune Supergiant\", value =\"Rising Pune Supergiants\") \n",
    "deliveries=deliveries.replace(to_replace =\"Delhi Daredevils\", value =\"Delhi Capitals\") \n",
    "deliveries=deliveries.replace(to_replace =\"Deccan Chargers\", value =\"Sunrisers Hyderabad\")"
   ]
  },
  {
   "cell_type": "code",
   "execution_count": null,
   "metadata": {},
   "outputs": [],
   "source": [
    "deliveries[deliveries['inning']==1]"
   ]
  },
  {
   "cell_type": "code",
   "execution_count": null,
   "metadata": {},
   "outputs": [],
   "source": [
    "total_runs = []\n",
    "matches = []\n",
    "batting_team = []\n",
    "for match_no in deliveries['match_id'].unique():\n",
    "    df = deliveries[(deliveries['match_id']==match_no) & (deliveries['inning']==1)]\n",
    "    runs = df['total_runs'].sum()\n",
    "    total_runs.append(runs)\n",
    "    matches.append(match_no)\n",
    "    batting_team.append(df['batting_team'].unique()[0])"
   ]
  },
  {
   "cell_type": "code",
   "execution_count": null,
   "metadata": {},
   "outputs": [],
   "source": [
    "df1 = pd.DataFrame()\n",
    "df1['match_no'] = matches\n",
    "df1['batting_team'] = batting_team\n",
    "df1['total_runs'] = total_runs\n",
    "df1"
   ]
  },
  {
   "cell_type": "code",
   "execution_count": null,
   "metadata": {},
   "outputs": [],
   "source": [
    "final_runs = []\n",
    "final_team = []\n",
    "for team in df1['batting_team'].unique():\n",
    "    max_run = df1[df1['batting_team']==team]['total_runs'].max()\n",
    "    final_runs.append(max_run)\n",
    "    final_team.append(team)\n",
    "final_runs, final_team"
   ]
  },
  {
   "cell_type": "code",
   "execution_count": null,
   "metadata": {},
   "outputs": [],
   "source": [
    "sns.barplot(final_runs, final_team)\n",
    "plt.tight_layout()\n",
    "plt.savefig(\"graphs/first_innings_max_runs.jpg\")"
   ]
  },
  {
   "cell_type": "code",
   "execution_count": null,
   "metadata": {},
   "outputs": [],
   "source": []
  }
 ],
 "metadata": {
  "kernelspec": {
   "name": "python3",
   "display_name": "Python 3",
   "language": "python"
  },
  "language_info": {
   "codemirror_mode": {
    "name": "ipython",
    "version": 3
   },
   "file_extension": ".py",
   "mimetype": "text/x-python",
   "name": "python",
   "nbconvert_exporter": "python",
   "pygments_lexer": "ipython3",
   "version": "3.8.5-final"
  }
 },
 "nbformat": 4,
 "nbformat_minor": 4
}