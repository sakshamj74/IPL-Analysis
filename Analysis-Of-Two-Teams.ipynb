{
 "cells": [
  {
   "cell_type": "code",
   "execution_count": null,
   "metadata": {},
   "outputs": [],
   "source": [
    "import numpy as np\n",
    "import pandas as pd\n",
    "pd.set_option('display.max_columns', None)\n",
    "import matplotlib.pyplot as plt\n",
    "import seaborn as sns\n",
    "%matplotlib inline"
   ]
  },
  {
   "cell_type": "code",
   "execution_count": null,
   "metadata": {},
   "outputs": [],
   "source": [
    "matches_dataset=pd.read_csv(\"Ipl Data/matches.csv\")"
   ]
  },
  {
   "cell_type": "code",
   "execution_count": null,
   "metadata": {},
   "outputs": [],
   "source": [
    "matches_dataset[\"team1\"].unique()"
   ]
  },
  {
   "cell_type": "code",
   "execution_count": null,
   "metadata": {},
   "outputs": [],
   "source": [
    "matches_dataset"
   ]
  },
  {
   "cell_type": "code",
   "execution_count": null,
   "metadata": {},
   "outputs": [],
   "source": [
    "matches_dataset=matches_dataset.replace(to_replace =\"Rising Pune Supergiant\", value =\"Rising Pune Supergiants\") \n",
    "matches_dataset=matches_dataset.replace(to_replace =\"Delhi Daredevils\", value =\"Delhi Capitals\") \n",
    "matches_dataset=matches_dataset.replace(to_replace =\"Deccan Chargers\", value =\"Sunrisers Hyderabad\")\n",
    "\n",
    "#Analyse two teams based of winner based on one on one matches in each season\n",
    "def team1_vs_team2(team1,team2):\n",
    "    mt1=matches_dataset[((matches_dataset['team1']==team1)|(matches_dataset['team2']==team1))&((matches_dataset['team1']==team2)|(matches_dataset['team2']==team2))]\n",
    "    plt.style.use('ggplot')\n",
    "    fig=plt.gcf()\n",
    "    fig.set_size_inches(13,7.5)\n",
    "    plt.xticks(fontsize=15)\n",
    "    plt.yticks(fontsize=15)\n",
    "    plt.title(\"ONE ON ONE CLASH\",fontsize=20)\n",
    "    ax=sns.countplot(x = 'season', hue='winner',data=mt1, palette='Set3')\n",
    "    ax.legend(loc = 'center left', bbox_to_anchor=(1,0.7))\n",
    "    plt.savefig(\"graphs/\"+team1+\"_vs_\"+team2+\".jpg\")\n"
   ]
  },
  {
   "cell_type": "code",
   "execution_count": null,
   "metadata": {
    "scrolled": false
   },
   "outputs": [],
   "source": [
    "team1_vs_team2('Chennai Super Kings','Mumbai Indians')\n"
   ]
  },
  {
   "cell_type": "markdown",
   "metadata": {},
   "source": [
    "#                                      MI vs CSK head to head"
   ]
  },
  {
   "cell_type": "code",
   "execution_count": null,
   "metadata": {},
   "outputs": [],
   "source": [
    "data = matches_dataset"
   ]
  },
  {
   "cell_type": "code",
   "execution_count": null,
   "metadata": {},
   "outputs": [],
   "source": [
    "micsk=data[np.logical_or(np.logical_and(data['team1']=='Mumbai Indians',data['team2']=='Chennai Super Kings'),np.logical_and(data['team2']=='Mumbai Indians',data['team1']=='Chennai Super Kings'))]"
   ]
  },
  {
   "cell_type": "code",
   "execution_count": null,
   "metadata": {},
   "outputs": [],
   "source": [
    "sns.set(style='dark')\n",
    "fig=plt.gcf()\n",
    "fig.set_size_inches(10,8)\n",
    "sns.countplot(micsk['winner'],order=micsk['winner'].value_counts().index)\n",
    "plt.text(-0.1,15,str(micsk['winner'].value_counts()['Mumbai Indians']),size=29,color='white')\n",
    "plt.text(0.9,9,str(micsk['winner'].value_counts()['Chennai Super Kings']),size=29,color='white')\n",
    "plt.xlabel('Winner',fontsize=15)\n",
    "plt.ylabel('Count',fontsize=15)\n",
    "plt.yticks(fontsize=0)\n",
    "plt.title('MI vs CSK - head to head')\n",
    "plt.savefig(\"graphs/MIvsCSK_head_to_head.jpg\")\n",
    "plt.show()"
   ]
  },
  {
   "cell_type": "code",
   "execution_count": null,
   "metadata": {},
   "outputs": [],
   "source": [
    "sns.set(style='darkgrid')\n",
    "fig=plt.gcf()\n",
    "fig.set_size_inches(18.5,8)\n",
    "sns.countplot(micsk['player_of_match'],order=micsk['player_of_match'].value_counts().index,palette='Set2')\n",
    "plt.title('All man of the match awards in MI-CSK games',fontsize=15)\n",
    "plt.yticks([1,2,3],[1,2,3],fontsize=15)\n",
    "plt.xticks(fontsize=15,rotation=90)\n",
    "plt.xlabel('Man of the match',fontsize=15)\n",
    "plt.ylabel('Count',fontsize=15)\n",
    "plt.tight_layout()\n",
    "plt.savefig(\"graphs/MIvsCSK_man_of_the_match.jpg\")\n",
    "plt.show()"
   ]
  },
  {
   "cell_type": "code",
   "execution_count": null,
   "metadata": {},
   "outputs": [],
   "source": [
    "sns.set(style='darkgrid')\n",
    "fig=plt.gcf()\n",
    "fig.set_size_inches(18.5,8)\n",
    "sns.countplot(micsk['venue'],order=micsk['venue'].value_counts().index,palette='Set2',hue=data['toss_decision'])\n",
    "plt.title('Toss decision at each venue in MIvCSK matches',fontsize=15)\n",
    "plt.yticks(fontsize=15)\n",
    "plt.xticks(fontsize=15,rotation=90)\n",
    "plt.xlabel('Venue',fontsize=15)\n",
    "plt.ylabel('Count',fontsize=15)\n",
    "plt.legend(loc=5,fontsize=15)\n",
    "plt.tight_layout()\n",
    "plt.savefig(\"graphs/MIvsCSK_toss_decision_at_venues.jpg\")\n",
    "plt.show()\n"
   ]
  },
  {
   "cell_type": "code",
   "execution_count": null,
   "metadata": {},
   "outputs": [],
   "source": [
    "sns.set(style='darkgrid')\n",
    "fig=plt.gcf()\n",
    "fig.set_size_inches(18.5,8)\n",
    "sns.countplot(micsk['toss_winner'],order=micsk['toss_winner'].value_counts().index,palette='Set2',hue=data['toss_decision'])\n",
    "plt.title('Toss decision statistics for both team',fontsize=15)\n",
    "plt.yticks(fontsize=15)\n",
    "plt.xticks(fontsize=15)\n",
    "plt.xlabel('Toss winner',fontsize=15)\n",
    "plt.ylabel('Count',fontsize=15)\n",
    "plt.text(-0.25,6,str(int((7/15)*100)+1)+'%',fontsize=29)\n",
    "plt.text(0.15,7,str(int((8/15)*100))+'%',fontsize=29)\n",
    "plt.text(0.75,7,str(int((8/13)*100)+1)+'%',fontsize=29)\n",
    "plt.text(1.15,4,str(int((5/13)*100))+'%',fontsize=29)\n",
    "plt.legend(['Field first','Bat first'],loc='best',fontsize=15)\n",
    "plt.savefig(\"graphs/MIvsCSK_toss_statistics.jpg\")\n",
    "plt.show()"
   ]
  }
 ],
 "metadata": {
  "kernelspec": {
   "display_name": "Python 3",
   "language": "python",
   "name": "python3"
  },
  "language_info": {
   "codemirror_mode": {
    "name": "ipython",
    "version": 3
   },
   "file_extension": ".py",
   "mimetype": "text/x-python",
   "name": "python",
   "nbconvert_exporter": "python",
   "pygments_lexer": "ipython3",
   "version": "3.8.5-final"
  }
 },
 "nbformat": 4,
 "nbformat_minor": 4
}