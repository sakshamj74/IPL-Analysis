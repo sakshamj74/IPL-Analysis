{
 "cells": [
  {
   "cell_type": "code",
   "execution_count": 1,
   "metadata": {},
   "outputs": [],
   "source": [
    "import pandas as pd\n",
    "import numpy as np\n",
    "import matplotlib.pyplot as plt\n",
    "import seaborn as sns\n",
    "%matplotlib inline"
   ]
  },
  {
   "cell_type": "code",
   "execution_count": 2,
   "metadata": {},
   "outputs": [],
   "source": [
    "deliveries_dataset = pd.read_csv('Ipl Data/deliveries.csv')\n",
    "matches_dataset=pd.read_csv(\"Ipl Data/matches.csv\")\n"
   ]
  },
  {
   "cell_type": "code",
   "execution_count": 3,
   "metadata": {},
   "outputs": [
    {
     "data": {
      "text/plain": [
       "array([1, 2, 3, 4, 5])"
      ]
     },
     "execution_count": 3,
     "metadata": {},
     "output_type": "execute_result"
    }
   ],
   "source": [
    "deliveries_dataset['inning'].unique()"
   ]
  },
  {
   "cell_type": "code",
   "execution_count": 4,
   "metadata": {},
   "outputs": [
    {
     "data": {
      "text/plain": [
       "array(['Sunrisers Hyderabad', 'Mumbai Indians', 'Gujarat Lions',\n",
       "       'Rising Pune Supergiant', 'Royal Challengers Bangalore',\n",
       "       'Kolkata Knight Riders', 'Delhi Daredevils', 'Kings XI Punjab',\n",
       "       'Chennai Super Kings', 'Rajasthan Royals', 'Deccan Chargers',\n",
       "       'Kochi Tuskers Kerala', 'Pune Warriors', 'Rising Pune Supergiants',\n",
       "       'Delhi Capitals'], dtype=object)"
      ]
     },
     "execution_count": 4,
     "metadata": {},
     "output_type": "execute_result"
    }
   ],
   "source": [
    "matches_dataset['team1'].unique()"
   ]
  },
  {
   "cell_type": "code",
   "execution_count": 8,
   "metadata": {},
   "outputs": [],
   "source": [
    "#Data Preprocessing\n",
    "\n",
    "deliveries_dataset=deliveries_dataset.replace(to_replace =\"Rising Pune Supergiant\", value =\"Rising Pune Supergiants\") \n",
    "deliveries_dataset=deliveries_dataset.replace(to_replace =\"Delhi Daredevils\", value =\"Delhi Capitals\") \n",
    "deliveries_dataset=deliveries_dataset.replace(to_replace =\"Deccan Chargers\", value =\"Sunrisers Hyderabad\")\n",
    "\n",
    "matches = []\n",
    "total_innings = []\n",
    "batting_team = []\n",
    "runs = []\n",
    "\n",
    "for match_no in deliveries_dataset['match_id'].unique():\n",
    "    for innings in deliveries_dataset[ deliveries_dataset['match_id']==match_no ]['inning'].unique():\n",
    "        df = deliveries_dataset[\n",
    "                        (deliveries_dataset['match_id']==match_no) &\n",
    "                        (deliveries_dataset['inning']==innings)\n",
    "        ]\n",
    "        total_runs = df['total_runs'].sum()\n",
    "        runs.append(total_runs)\n",
    "        matches.append(match_no)\n",
    "        total_innings.append(innings)\n",
    "        batting_team.append(df['batting_team'].unique()[0])"
   ]
  },
  {
   "cell_type": "code",
   "execution_count": 9,
   "metadata": {},
   "outputs": [
    {
     "data": {
      "text/html": [
       "<div>\n",
       "<style scoped>\n",
       "    .dataframe tbody tr th:only-of-type {\n",
       "        vertical-align: middle;\n",
       "    }\n",
       "\n",
       "    .dataframe tbody tr th {\n",
       "        vertical-align: top;\n",
       "    }\n",
       "\n",
       "    .dataframe thead th {\n",
       "        text-align: right;\n",
       "    }\n",
       "</style>\n",
       "<table border=\"1\" class=\"dataframe\">\n",
       "  <thead>\n",
       "    <tr style=\"text-align: right;\">\n",
       "      <th></th>\n",
       "      <th>match_id</th>\n",
       "      <th>total_runs</th>\n",
       "      <th>season</th>\n",
       "      <th>batting_team</th>\n",
       "    </tr>\n",
       "  </thead>\n",
       "  <tbody>\n",
       "    <tr>\n",
       "      <th>0</th>\n",
       "      <td>1</td>\n",
       "      <td>207</td>\n",
       "      <td>2017</td>\n",
       "      <td>Sunrisers Hyderabad</td>\n",
       "    </tr>\n",
       "    <tr>\n",
       "      <th>1</th>\n",
       "      <td>1</td>\n",
       "      <td>172</td>\n",
       "      <td>2017</td>\n",
       "      <td>Royal Challengers Bangalore</td>\n",
       "    </tr>\n",
       "    <tr>\n",
       "      <th>2</th>\n",
       "      <td>2</td>\n",
       "      <td>184</td>\n",
       "      <td>2017</td>\n",
       "      <td>Mumbai Indians</td>\n",
       "    </tr>\n",
       "    <tr>\n",
       "      <th>3</th>\n",
       "      <td>2</td>\n",
       "      <td>187</td>\n",
       "      <td>2017</td>\n",
       "      <td>Rising Pune Supergiants</td>\n",
       "    </tr>\n",
       "    <tr>\n",
       "      <th>4</th>\n",
       "      <td>3</td>\n",
       "      <td>183</td>\n",
       "      <td>2017</td>\n",
       "      <td>Gujarat Lions</td>\n",
       "    </tr>\n",
       "    <tr>\n",
       "      <th>...</th>\n",
       "      <td>...</td>\n",
       "      <td>...</td>\n",
       "      <td>...</td>\n",
       "      <td>...</td>\n",
       "    </tr>\n",
       "    <tr>\n",
       "      <th>1523</th>\n",
       "      <td>11413</td>\n",
       "      <td>170</td>\n",
       "      <td>2019</td>\n",
       "      <td>Delhi Capitals</td>\n",
       "    </tr>\n",
       "    <tr>\n",
       "      <th>1524</th>\n",
       "      <td>11414</td>\n",
       "      <td>155</td>\n",
       "      <td>2019</td>\n",
       "      <td>Delhi Capitals</td>\n",
       "    </tr>\n",
       "    <tr>\n",
       "      <th>1525</th>\n",
       "      <td>11414</td>\n",
       "      <td>162</td>\n",
       "      <td>2019</td>\n",
       "      <td>Chennai Super Kings</td>\n",
       "    </tr>\n",
       "    <tr>\n",
       "      <th>1526</th>\n",
       "      <td>11415</td>\n",
       "      <td>152</td>\n",
       "      <td>2019</td>\n",
       "      <td>Mumbai Indians</td>\n",
       "    </tr>\n",
       "    <tr>\n",
       "      <th>1527</th>\n",
       "      <td>11415</td>\n",
       "      <td>157</td>\n",
       "      <td>2019</td>\n",
       "      <td>Chennai Super Kings</td>\n",
       "    </tr>\n",
       "  </tbody>\n",
       "</table>\n",
       "<p>1528 rows × 4 columns</p>\n",
       "</div>"
      ],
      "text/plain": [
       "      match_id  total_runs  season                 batting_team\n",
       "0            1         207    2017          Sunrisers Hyderabad\n",
       "1            1         172    2017  Royal Challengers Bangalore\n",
       "2            2         184    2017               Mumbai Indians\n",
       "3            2         187    2017      Rising Pune Supergiants\n",
       "4            3         183    2017                Gujarat Lions\n",
       "...        ...         ...     ...                          ...\n",
       "1523     11413         170    2019               Delhi Capitals\n",
       "1524     11414         155    2019               Delhi Capitals\n",
       "1525     11414         162    2019          Chennai Super Kings\n",
       "1526     11415         152    2019               Mumbai Indians\n",
       "1527     11415         157    2019          Chennai Super Kings\n",
       "\n",
       "[1528 rows x 4 columns]"
      ]
     },
     "execution_count": 9,
     "metadata": {},
     "output_type": "execute_result"
    }
   ],
   "source": [
    "#Final Dataset after preprocessing\n",
    "\n",
    "df1 = pd.DataFrame()\n",
    "df1['match_id'] = matches\n",
    "df1['total_runs'] = runs\n",
    "df1['season'] = [matches_dataset[ matches_dataset['id']==i ]['season'].unique()[0] for i in matches] \n",
    "df1['batting_team'] = batting_team\n",
    "\n",
    "\n",
    "df1"
   ]
  },
  {
   "cell_type": "code",
   "execution_count": 11,
   "metadata": {},
   "outputs": [],
   "source": [
    "#Maximum score in each season\n",
    "\n",
    "season = []\n",
    "teamId = []\n",
    "max_runs = []\n",
    "for year in df1['season'].unique():\n",
    "    maximum_run = df1[ df1['season']==year ]['total_runs'].max()\n",
    "    team = df1[ (df1['season']==year) & (df1['total_runs']==maximum_run) ]['batting_team'].unique()[0]\n",
    "    season.append(year)\n",
    "    teamId.append(team)\n",
    "    max_runs.append(maximum_run)\n",
    "\n"
   ]
  },
  {
   "cell_type": "code",
   "execution_count": 25,
   "metadata": {},
   "outputs": [
    {
     "data": {
      "text/plain": [
       "[230, 240, 211, 246, 232, 222, 263, 231, 235, 248, 250, 241]"
      ]
     },
     "execution_count": 25,
     "metadata": {},
     "output_type": "execute_result"
    }
   ],
   "source": [
    "max_runs"
   ]
  },
  {
   "cell_type": "code",
   "execution_count": 26,
   "metadata": {},
   "outputs": [
    {
     "data": {
      "text/plain": [
       "<matplotlib.legend.Legend at 0x7f9ad15b5dd0>"
      ]
     },
     "execution_count": 26,
     "metadata": {},
     "output_type": "execute_result"
    },
    {
     "data": {
      "image/png": "[encoded data removed]",
      "text/plain": [
       "<Figure size 936x540 with 1 Axes>"
      ]
     },
     "metadata": {},
     "output_type": "display_data"
    }
   ],
   "source": [
    "plt.style.use('ggplot')\n",
    "fig=plt.gcf()\n",
    "fig.set_size_inches(13,7.5)\n",
    "plt.xticks(fontsize=15)\n",
    "plt.yticks(fontsize=15)\n",
    "plt.title(\"Highest team score in each season\",fontsize=20)\n",
    "ax=sns.barplot(x = season, y = max_runs, hue = teamId, dodge=False)\n",
    "ax.legend(loc = 'center left', bbox_to_anchor=(1,0.7))\n"
   ]
  },
  {
   "cell_type": "code",
   "execution_count": null,
   "metadata": {},
   "outputs": [],
   "source": []
  },
  {
   "cell_type": "code",
   "execution_count": null,
   "metadata": {},
   "outputs": [],
   "source": []
  },
  {
   "cell_type": "code",
   "execution_count": null,
   "metadata": {},
   "outputs": [],
   "source": []
  },
  {
   "cell_type": "code",
   "execution_count": null,
   "metadata": {},
   "outputs": [],
   "source": []
  }
 ],
 "metadata": {
  "kernelspec": {
   "display_name": "Python 3",
   "language": "python",
   "name": "python3"
  },
  "language_info": {
   "codemirror_mode": {
    "name": "ipython",
    "version": 3
   },
   "file_extension": ".py",
   "mimetype": "text/x-python",
   "name": "python",
   "nbconvert_exporter": "python",
   "pygments_lexer": "ipython3",
   "version": "3.7.5"
  }
 },
 "nbformat": 4,
 "nbformat_minor": 4
}
